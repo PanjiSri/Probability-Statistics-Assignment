{
 "cells": [
  {
   "cell_type": "code",
   "execution_count": 42,
   "metadata": {},
   "outputs": [],
   "source": [
    "import pandas as pd\n",
    "import matplotlib.pyplot as plt\n",
    "import numpy as np\n",
    "from scipy import stats\n",
    "import math"
   ]
  },
  {
   "cell_type": "code",
   "execution_count": 43,
   "metadata": {},
   "outputs": [],
   "source": [
    "data_path = 'weather.csv' \n",
    "data = pd.read_csv(data_path)\n",
    "if 'Unnamed: 0' in data.columns:\n",
    "    data.drop('Unnamed: 0', axis=1, inplace=True)"
   ]
  },
  {
   "cell_type": "code",
   "execution_count": 44,
   "metadata": {},
   "outputs": [],
   "source": [
    "#Pembersihan Data\n",
    "def deteksi_outlier_iqr_manual(data):\n",
    "    outlier_indices = {}\n",
    "    for kolom in data.select_dtypes(include=['number']).columns:\n",
    "        Q1 = data[kolom].quantile(0.25)\n",
    "        Q3 = data[kolom].quantile(0.75)\n",
    "        IQR = Q3 - Q1\n",
    "        batas_bawah = Q1 - 1.5 * IQR\n",
    "        batas_atas = Q3 + 1.5 * IQR\n",
    "        outlier_mask = (data[kolom] < batas_bawah) | (data[kolom] > batas_atas)\n",
    "        outlier_indices[kolom] = data[kolom][outlier_mask].index.tolist()\n",
    "    return outlier_indices\n",
    "\n",
    "def imputasi_outlier(data, outlier_indices):\n",
    "    for kolom, indices in outlier_indices.items():\n",
    "        median = data[kolom].median()\n",
    "        data.loc[indices, kolom] = median\n",
    "    return data"
   ]
  },
  {
   "cell_type": "code",
   "execution_count": 45,
   "metadata": {},
   "outputs": [],
   "source": [
    "def cari_persentil(data_terurut, persentil):\n",
    "    k = (len(data_terurut) - 1) * (persentil / 100)\n",
    "    f = int(k)\n",
    "    c = f + 1 if k - f > 0 else f\n",
    "    if f < len(data_terurut) - 1:\n",
    "        return data_terurut[f] + (k - f) * (data_terurut[c] - data_terurut[f])\n",
    "    else:\n",
    "        return data_terurut[f]\n",
    "\n",
    "def statistik_manual(data):\n",
    "    hasil = {}\n",
    "    for kolom in data.select_dtypes(include=['number']).columns:\n",
    "        nilai = data[kolom].dropna()\n",
    "        data_terurut = sorted(nilai)\n",
    "        n = len(data_terurut)\n",
    "\n",
    "        mean = sum(data_terurut) / n\n",
    "        median = cari_persentil(data_terurut, 50)\n",
    "        variansi = sum((x - mean) ** 2 for x in data_terurut) / (n - 1)\n",
    "        standar_deviasi = variansi ** 0.5\n",
    "\n",
    "        hasil[kolom] = {\n",
    "            'nilai mean': mean,\n",
    "            'nilai median': median,\n",
    "            'nilai standar deviasi': standar_deviasi,\n",
    "            'nilai variansi': variansi,\n",
    "        }\n",
    "    return pd.DataFrame(hasil)"
   ]
  },
  {
   "cell_type": "markdown",
   "metadata": {},
   "source": [
    "Kasus 1\n",
    "\n",
    "Perusahaan menerima beberapa keluhan bahwa prediksi terkait nilai humidity di suatu daerah seringkali tidak tepat. Hal tersebut berakibat pada kurangnya persiapan masyarakat dalam melakukan penyesuaian kondisi termal tertentu. Dapatkah Anda mengecek apakah rata-rata nilai Humidity lebih dari 75?"
   ]
  },
  {
   "cell_type": "code",
   "execution_count": 46,
   "metadata": {},
   "outputs": [
    {
     "name": "stdout",
     "output_type": "stream",
     "text": [
      "p value manual = 1.0\n",
      "p value library = 1.0\n",
      "Nilai kritis ketika t >  1.645616248187262\n",
      "Gagal Menolak H0: Tidak ada cukup bukti untuk menyatakan rata-rata nilai Humidity lebih dari 75.\n",
      "T-statistik: -23.075432908744677\n",
      "P-value: 0.9613361161137364\n"
     ]
    }
   ],
   "source": [
    "# Deteksi dan imputasi outlier\n",
    "outlier_indices_manual = deteksi_outlier_iqr_manual(data)\n",
    "data = imputasi_outlier(data.copy(), outlier_indices_manual)\n",
    "\n",
    "humidity_data = data['Humidity']\n",
    "\n",
    "# LANGKAH 1\n",
    "# Hipotesis nol (H0): Rata-rata nilai Humidity (μ) = 75\n",
    "mu_0 = 75\n",
    "\n",
    "# LANGKAH 2\n",
    "# Hipotesis alternatif (H1): Rata-rata nilai Humidity (μ) > 75\n",
    "\n",
    "# LANGKAH 3\n",
    "# Tingkat signifikan (α) = 0.05 \n",
    "alpha = 0.05\n",
    "\n",
    "# LANGKAH 4\n",
    "# Kalkulasi nilai T kritis untuk alpha = 0.05 (Asumsi distribusi T)\n",
    "t_critical = stats.t.ppf(1 - alpha, df=len(humidity_data) - 1)\n",
    "\n",
    "# LANGKAH 5\n",
    "humidity_data = data['Humidity']\n",
    "\n",
    "sample_mean = sum(humidity_data) / len(humidity_data)\n",
    "\n",
    "sum_of_squares = sum([(x - sample_mean) ** 2 for x in humidity_data])\n",
    "\n",
    "sample_std_dev = math.sqrt(sum_of_squares / (len(humidity_data) - 1))\n",
    "\n",
    "t_statistic = (sample_mean - mu_0) / (sample_std_dev / math.sqrt(len(humidity_data)))\n",
    "\n",
    "def t_cdf(t, df):\n",
    "    x = abs(t)\n",
    "    a = 0.5 * math.exp(math.lgamma((df + 1) / 2) - math.lgamma(df / 2)) * (1 + (x ** 2) / df) ** (-(df + 1) / 2)\n",
    "    if t < 0:\n",
    "        return a\n",
    "    else:\n",
    "        return 1 - a\n",
    "\n",
    "p_value = 1 - t_cdf(t_statistic, len(humidity_data) - 1)\n",
    "\n",
    "p_value_library = 1 - stats.t.cdf(t_statistic, df=len(humidity_data) - 1)\n",
    "\n",
    "print(\"p value manual =\", p_value)\n",
    "print(\"p value library =\", p_value_library)\n",
    "print(\"Nilai kritis ketika t > \", t_critical)\n",
    "\n",
    "#LANGKAH 6\n",
    "if p_value < alpha:\n",
    "    print(\"TOLAK H0: Rata-rata nilai Humidity lebih dari 75.\")\n",
    "else:\n",
    "    print(\"Gagal Menolak H0: Tidak ada cukup bukti untuk menyatakan rata-rata nilai Humidity lebih dari 75.\")\n",
    "\n",
    "\n",
    "print(f\"T-statistik: {t_statistic}\")\n",
    "print(f\"P-value: {p_value_manual}\")"
   ]
  },
  {
   "cell_type": "markdown",
   "metadata": {},
   "source": [
    "Kasus 2\n",
    "\n",
    "Perusahaan mengeluarkan nilai rata-rata UV_index sebesar 3. Akan tetapi, mayoritas pelanggan mengeluhkan kulitnya terasa terbakar. Sebagai karyawan yang baik, periksalah apakah rata-rata UV_Index yang diamati memang tidak sama dengan 3 (sesuai laporan pelanggan)?"
   ]
  },
  {
   "cell_type": "code",
   "execution_count": 47,
   "metadata": {},
   "outputs": [
    {
     "name": "stdout",
     "output_type": "stream",
     "text": [
      "p value manual = 0.0\n",
      "p value library = 0.0\n",
      "Nilai kritis ketika t <  -1.9611514201705618  atau  Nilai kritis ketika t >  1.9611514201705613\n",
      "TOLAK H0: Rata-rata nilai UV_Index tidak sama dengan 3.\n",
      "T-statistik: 42.58523893941472\n",
      "P-value: 0.0\n"
     ]
    }
   ],
   "source": [
    "# LANGKAH 1\n",
    "# Hipotesis nol (H0): Rata-rata UV-index = 3\n",
    "mu_0 = 3\n",
    "\n",
    "# LANGKAH 2\n",
    "# Hipotesis alternatif (H1): Rata-rata UV-index != 3\n",
    "\n",
    "# LANGKAH 3\n",
    "# Tingkat signifikan (α) = 0.05 \n",
    "alpha = 0.05\n",
    "\n",
    "# LANGKAH 4\n",
    "# Kalkulasi Nilai Kritis\n",
    "uv_index_data = data['UV_Index']\n",
    "left_t_critical = stats.t.ppf(alpha / 2, df=len(uv_index_data) - 1)\n",
    "right_t_critical = stats.t.ppf(1 - alpha / 2, df=len(uv_index_data) - 1)\n",
    "\n",
    "# LANGKAH 5\n",
    "sample_mean = sum(uv_index_data) / len(uv_index_data)\n",
    "sum_of_squares = sum([(x - sample_mean) ** 2 for x in uv_index_data])\n",
    "sample_std_dev = math.sqrt(sum_of_squares / (len(uv_index_data) - 1))\n",
    "t_statistic = (sample_mean - mu_0) / (sample_std_dev / math.sqrt(len(uv_index_data)))\n",
    "\n",
    "def t_cdf(t, df):\n",
    "    x = abs(t)\n",
    "    a = 0.5 * math.exp(math.lgamma((df + 1) / 2) - math.lgamma(df / 2)) * (1 + (x ** 2) / df) ** (-(df + 1) / 2)\n",
    "    if t < 0:\n",
    "        return a\n",
    "    else:\n",
    "        return 1 - a\n",
    "\n",
    "p_value_manual = 2 * (1 - t_cdf(abs(t_statistic), len(uv_index_data) - 1))\n",
    "\n",
    "p_value_library = 2 * (1 - stats.t.cdf(abs(t_statistic), df=len(uv_index_data) - 1))\n",
    "\n",
    "# LANGKAH 6\n",
    "print(\"p value manual =\", p_value_manual)\n",
    "print(\"p value library =\", p_value_library)\n",
    "print(\"Nilai kritis ketika t < \", left_t_critical, \" atau \", \"Nilai kritis ketika t > \", right_t_critical)\n",
    "\n",
    "if p_value_manual < alpha:\n",
    "    print(\"TOLAK H0: Rata-rata nilai UV_Index tidak sama dengan 3.\")\n",
    "else:\n",
    "    print(\"Gagal Menolak H0: Tidak ada cukup bukti untuk menyatakan UV_Index tidak sama dengan 3.\")\n",
    "\n",
    "\n",
    "print(f\"T-statistik: {t_statistic}\")\n",
    "print(f\"P-value: {p_value_manual}\")"
   ]
  },
  {
   "cell_type": "markdown",
   "metadata": {},
   "source": [
    "KASUS 3\n",
    "\n",
    "Pemerintah setempat menyarankan agar penduduk menghindari aktivitas di luar ruangan di 5 hari terakhir (asumsi: data terbaru berada pada urutan paling awal) karena nilai rata-rata pressure diprediksi berada di angka 950. Periksa apakah nilai rata-rata pressure ?"
   ]
  },
  {
   "cell_type": "code",
   "execution_count": 48,
   "metadata": {},
   "outputs": [
    {
     "name": "stdout",
     "output_type": "stream",
     "text": [
      "p value manual = 0.9613361161137364\n",
      "p value library = 0.5545525495366928\n",
      "Nilai kritis ketika t <  -2.7764451051977996  atau  Nilai kritis ketika t >  2.7764451051977987\n",
      "Gagal Menolak H0: Tidak ada cukup bukti untuk menyatakan rata-rata nilai Pressure tidak sama dengan 950.\n",
      "T-statistik: 0.6441556286115692\n",
      "P-value: 0.9613361161137364\n"
     ]
    }
   ],
   "source": [
    "# Filter the pressure data for the last 5 days\n",
    "pressure_data = data['Pressure'].head(5)\n",
    "\n",
    "# LANGKAH 1\n",
    "# Hipotesis nol (H0): Rata-rata nilai Pressure (μ) = 950\n",
    "mu_0 = 950\n",
    "\n",
    "# LANGKAH 2\n",
    "# Hipotesis alternatif (H1): Rata-rata nilai Pressure (μ) ≠ 950\n",
    "\n",
    "# LANGKAH 3\n",
    "# Tingkat signifikan (α) = 0.05 \n",
    "alpha = 0.05\n",
    "\n",
    "# LANGKAH 4\n",
    "# Kalkulasi Nilai Kritis\n",
    "left_t_critical = stats.t.ppf(alpha / 2, df=len(pressure_data) - 1)\n",
    "right_t_critical = stats.t.ppf(1 - alpha / 2, df=len(pressure_data) - 1)\n",
    "\n",
    "# LANGKAH 5\n",
    "sample_mean = sum(pressure_data) / len(pressure_data)\n",
    "sum_of_squares = sum([(x - sample_mean) ** 2 for x in pressure_data])\n",
    "sample_std_dev = math.sqrt(sum_of_squares / (len(pressure_data) - 1))\n",
    "t_statistic = (sample_mean - mu_0) / (sample_std_dev / math.sqrt(len(pressure_data)))\n",
    "\n",
    "def t_cdf(t, df):\n",
    "    x = abs(t)\n",
    "    a = 0.5 * math.exp(math.lgamma((df + 1) / 2) - math.lgamma(df / 2)) * (1 + (x ** 2) / df) ** (-(df + 1) / 2)\n",
    "    return a\n",
    "\n",
    "p_value_manual = 2 * (1 - t_cdf(abs(t_statistic), len(pressure_data) - 1))\n",
    "p_value_library = 2 * (1 - stats.t.cdf(abs(t_statistic), df=len(pressure_data) - 1))\n",
    "\n",
    "# LANGKAH 6\n",
    "print(\"p value manual =\", p_value_manual)\n",
    "print(\"p value library =\", p_value_library)\n",
    "print(\"Nilai kritis ketika t < \", left_t_critical, \" atau \", \"Nilai kritis ketika t > \", right_t_critical)\n",
    "\n",
    "if p_value_manual < alpha:\n",
    "    print(\"TOLAK H0: Rata-rata nilai Pressure tidak sama dengan 950.\")\n",
    "else:\n",
    "    print(\"Gagal Menolak H0: Tidak ada cukup bukti untuk menyatakan rata-rata nilai Pressure tidak sama dengan 950.\")\n",
    "\n",
    "print(f\"T-statistik: {t_statistic}\")\n",
    "print(f\"P-value: {p_value_manual}\")"
   ]
  }
 ],
 "metadata": {
  "kernelspec": {
   "display_name": ".venv",
   "language": "python",
   "name": "python3"
  },
  "language_info": {
   "codemirror_mode": {
    "name": "ipython",
    "version": 3
   },
   "file_extension": ".py",
   "mimetype": "text/x-python",
   "name": "python",
   "nbconvert_exporter": "python",
   "pygments_lexer": "ipython3",
   "version": "3.12.2"
  }
 },
 "nbformat": 4,
 "nbformat_minor": 2
}
