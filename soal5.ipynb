{
 "cells": [
  {
   "cell_type": "code",
   "execution_count": 7,
   "metadata": {},
   "outputs": [],
   "source": [
    "import pandas as pd\n",
    "import matplotlib.pyplot as plt\n",
    "import numpy as np\n",
    "from scipy import stats\n",
    "import math"
   ]
  },
  {
   "cell_type": "code",
   "execution_count": 8,
   "metadata": {},
   "outputs": [],
   "source": [
    "data_path = 'weather.csv' \n",
    "data = pd.read_csv(data_path)\n",
    "if 'Unnamed: 0' in data.columns:\n",
    "    data.drop('Unnamed: 0', axis=1, inplace=True)"
   ]
  },
  {
   "cell_type": "code",
   "execution_count": 11,
   "metadata": {},
   "outputs": [],
   "source": [
    "#Pembersihan Data\n",
    "def deteksi_outlier_iqr_manual(data):\n",
    "    outlier_indices = {}\n",
    "    for kolom in data.select_dtypes(include=['number']).columns:\n",
    "        Q1 = data[kolom].quantile(0.25)\n",
    "        Q3 = data[kolom].quantile(0.75)\n",
    "        IQR = Q3 - Q1\n",
    "        batas_bawah = Q1 - 1.5 * IQR\n",
    "        batas_atas = Q3 + 1.5 * IQR\n",
    "        outlier_mask = (data[kolom] < batas_bawah) | (data[kolom] > batas_atas)\n",
    "        outlier_indices[kolom] = data[kolom][outlier_mask].index.tolist()\n",
    "    return outlier_indices\n",
    "\n",
    "def imputasi_outlier(data, outlier_indices):\n",
    "    for kolom, indices in outlier_indices.items():\n",
    "        median = data[kolom].median()\n",
    "        data.loc[indices, kolom] = median\n",
    "    return data"
   ]
  },
  {
   "cell_type": "code",
   "execution_count": 5,
   "metadata": {},
   "outputs": [],
   "source": [
    "def cari_persentil(data_terurut, persentil):\n",
    "    k = (len(data_terurut) - 1) * (persentil / 100)\n",
    "    f = int(k)\n",
    "    c = f + 1 if k - f > 0 else f\n",
    "    if f < len(data_terurut) - 1:\n",
    "        return data_terurut[f] + (k - f) * (data_terurut[c] - data_terurut[f])\n",
    "    else:\n",
    "        return data_terurut[f]\n",
    "\n",
    "def statistik_manual(data):\n",
    "    hasil = {}\n",
    "    for kolom in data.select_dtypes(include=['number']).columns:\n",
    "        nilai = data[kolom].dropna()\n",
    "        data_terurut = sorted(nilai)\n",
    "        n = len(data_terurut)\n",
    "\n",
    "        mean = sum(data_terurut) / n\n",
    "        median = cari_persentil(data_terurut, 50)\n",
    "        variansi = sum((x - mean) ** 2 for x in data_terurut) / (n - 1)\n",
    "        standar_deviasi = variansi ** 0.5\n",
    "\n",
    "        hasil[kolom] = {\n",
    "            'nilai mean': mean,\n",
    "            'nilai median': median,\n",
    "            'nilai standar deviasi': standar_deviasi,\n",
    "            'nilai variansi': variansi,\n",
    "        }\n",
    "    return pd.DataFrame(hasil)"
   ]
  },
  {
   "cell_type": "markdown",
   "metadata": {},
   "source": [
    "Kasus 1\n",
    "\n",
    "Perusahaan menerima beberapa keluhan bahwa prediksi terkait nilai humidity di suatu daerah seringkali tidak tepat. Hal tersebut berakibat pada kurangnya persiapan masyarakat dalam melakukan penyesuaian kondisi termal tertentu. Dapatkah Anda mengecek apakah rata-rata nilai Humidity lebih dari 75?"
   ]
  },
  {
   "cell_type": "code",
   "execution_count": 21,
   "metadata": {},
   "outputs": [
    {
     "name": "stdout",
     "output_type": "stream",
     "text": [
      "p value manual 1.0\n",
      "p value library 1.0\n",
      "t kritis >  1.645616248187262\n",
      "Gagal Menolak H0: Tidak ada cukup bukti untuk menyatakan rata-rata nilai Humidity lebih dari 75.\n"
     ]
    }
   ],
   "source": [
    "# Deteksi dan imputasi outlier\n",
    "outlier_indices_manual = deteksi_outlier_iqr_manual(data)\n",
    "data = imputasi_outlier(data.copy(), outlier_indices_manual)\n",
    "\n",
    "humidity_data = data['Humidity']\n",
    "\n",
    "# LANGKAH 1\n",
    "# Hipotesis nol (H0): Rata-rata nilai Humidity (μ) = 75\n",
    "mu_0 = 75\n",
    "\n",
    "# LANGKAH 2\n",
    "# Hipotesis alternatif (H1): Rata-rata nilai Humidity (μ) > 75\n",
    "\n",
    "# LANGKAH 3\n",
    "# Tingkat signifikan (α) = 0.05 \n",
    "alpha = 0.05\n",
    "\n",
    "# LANGKAH 4\n",
    "# Kalkulasi nilai T kritis untuk alpha = 0.05 (Asumsi distribusi T)\n",
    "t_critical = stats.t.ppf(1 - alpha, df=len(humidity_data) - 1)\n",
    "\n",
    "# LANGKAH 5\n",
    "humidity_data = data['Humidity']\n",
    "\n",
    "sample_mean = sum(humidity_data) / len(humidity_data)\n",
    "\n",
    "sum_of_squares = sum([(x - sample_mean) ** 2 for x in humidity_data])\n",
    "\n",
    "sample_std_dev = math.sqrt(sum_of_squares / (len(humidity_data) - 1))\n",
    "\n",
    "t_statistic = (sample_mean - mu_0) / (sample_std_dev / math.sqrt(len(humidity_data)))\n",
    "\n",
    "def t_cdf(t, df):\n",
    "    x = abs(t)\n",
    "    a = 0.5 * math.exp(math.lgamma((df + 1) / 2) - math.lgamma(df / 2)) * (1 + (x ** 2) / df) ** (-(df + 1) / 2)\n",
    "    if t < 0:\n",
    "        return a\n",
    "    else:\n",
    "        return 1 - a\n",
    "\n",
    "p_value = 1 - t_cdf(t_statistic, len(humidity_data) - 1)\n",
    "\n",
    "p_value_library = 1 - stats.t.cdf(t_statistic, df=len(humidity_data) - 1)\n",
    "\n",
    "print(\"p value manual\", p_value)\n",
    "print(\"p value library\", p_value_library)\n",
    "print(\"t kritis > \", t_critical)\n",
    "\n",
    "#LANGKAH 6\n",
    "if p_value < alpha:\n",
    "    print(\"TOLAK H0: Rata-rata nilai Humidity lebih dari 75.\")\n",
    "else:\n",
    "    print(\"Gagal Menolak H0: Tidak ada cukup bukti untuk menyatakan rata-rata nilai Humidity lebih dari 75.\")"
   ]
  },
  {
   "cell_type": "markdown",
   "metadata": {},
   "source": [
    "Kasus 2\n",
    "\n",
    "Perusahaan mengeluarkan nilai rata-rata UV_index sebesar 3. Akan tetapi, mayoritas pelanggan mengeluhkan kulitnya terasa terbakar. Sebagai karyawan yang baik, periksalah apakah rata-rata UV_Index yang diamati memang tidak sama dengan 3 (sesuai laporan pelanggan)?"
   ]
  },
  {
   "cell_type": "code",
   "execution_count": 15,
   "metadata": {},
   "outputs": [
    {
     "name": "stdout",
     "output_type": "stream",
     "text": [
      "TOLAK H0: Rata-rata nilai UV_Index tidak sama dengan 3.\n"
     ]
    }
   ],
   "source": []
  }
 ],
 "metadata": {
  "kernelspec": {
   "display_name": ".venv",
   "language": "python",
   "name": "python3"
  },
  "language_info": {
   "codemirror_mode": {
    "name": "ipython",
    "version": 3
   },
   "file_extension": ".py",
   "mimetype": "text/x-python",
   "name": "python",
   "nbconvert_exporter": "python",
   "pygments_lexer": "ipython3",
   "version": "3.12.2"
  }
 },
 "nbformat": 4,
 "nbformat_minor": 2
}
