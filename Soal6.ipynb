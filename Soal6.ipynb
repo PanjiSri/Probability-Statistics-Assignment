{
  "nbformat": 4,
  "nbformat_minor": 0,
  "metadata": {
    "colab": {
      "provenance": []
    },
    "kernelspec": {
      "name": "python3",
      "display_name": "Python 3"
    },
    "language_info": {
      "name": "python"
    }
  },
  "cells": [
    {
      "cell_type": "markdown",
      "source": [
        "# No 2"
      ],
      "metadata": {
        "id": "HdUf3u_D1brA"
      }
    },
    {
      "cell_type": "code",
      "execution_count": 22,
      "metadata": {
        "id": "6eXgVXLntq31",
        "colab": {
          "base_uri": "https://localhost:8080/"
        },
        "outputId": "01fbb6f4-0d89-4f34-8988-ca3d95e2481d"
      },
      "outputs": [
        {
          "output_type": "stream",
          "name": "stdout",
          "text": [
            "2000\n"
          ]
        }
      ],
      "source": [
        "import pandas as pd\n",
        "import matplotlib.pyplot as plt\n",
        "import numpy as np\n",
        "import math\n",
        "from scipy import stats\n",
        "from scipy.stats import t\n",
        "\n",
        "\n",
        "data_path = 'weather.csv'\n",
        "data = pd.read_csv(data_path)\n",
        "\n",
        "def deteksi_outlier_iqr_manual(data):\n",
        "    outlier_indices = {}\n",
        "    for kolom in data.select_dtypes(include=['number']).columns:\n",
        "        Q1 = data[kolom].quantile(0.25)\n",
        "        Q3 = data[kolom].quantile(0.75)\n",
        "        IQR = Q3 - Q1\n",
        "        batas_bawah = Q1 - 1.5 * IQR\n",
        "        batas_atas = Q3 + 1.5 * IQR\n",
        "        outlier_mask = (data[kolom] < batas_bawah) | (data[kolom] > batas_atas)\n",
        "        outlier_indices[kolom] = data[kolom][outlier_mask].index.tolist()\n",
        "    return outlier_indices\n",
        "\n",
        "def imputasi_outlier(data, outlier_indices):\n",
        "    for kolom, indices in outlier_indices.items():\n",
        "        median = data[kolom].median()\n",
        "        data.loc[indices, kolom] = median\n",
        "    return data\n",
        "\n",
        "outlier_indices_manual = deteksi_outlier_iqr_manual(data)\n",
        "\n",
        "data_imputasi = imputasi_outlier(data.copy(), outlier_indices_manual)\n",
        "\n",
        "\n",
        "#Belah dua data\n",
        "length = data_imputasi.shape[0]\n",
        "areaA = data_imputasi[:1000]\n",
        "areaB = data_imputasi[1000:]\n",
        "print(length)\n"
      ]
    },
    {
      "cell_type": "markdown",
      "source": [
        "![image.png](data:image/png;base64,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)"
      ],
      "metadata": {
        "id": "pDAzaB8d2fG2"
      }
    },
    {
      "cell_type": "code",
      "source": [
        "# Hitung mean dan deviasi untuk A\n",
        "mean_areaA = sum(areaA['Humidity']/1000)\n",
        "\n",
        "varians_areaA = 0\n",
        "for humidity in areaA['Humidity']:\n",
        "    varians_areaA += math.pow((humidity - mean_areaA), 2)\n",
        "varians_areaA /= 1000 - 1\n",
        "standardeviasiA = math.sqrt(varians_areaA)\n",
        "\n",
        "# Hitung mean dan deviasi untuk B\n",
        "mean_areaB = sum(areaB['Humidity']/1000)\n",
        "\n",
        "varians_areaB = 0\n",
        "for humidity in areaB['Humidity']:\n",
        "    varians_areaB += math.pow((humidity - mean_areaB), 2)\n",
        "varians_areaB /= 1000 - 1\n",
        "standardeviasiB = math.sqrt(varians_areaB)\n",
        "\n",
        "# Hypothesis\n",
        "# H0: u1 - u2 = 0\n",
        "# H1: u1 - u2 != 0\n",
        "\n",
        "# Significance level\n",
        "alpha = 0.05\n",
        "\n",
        "# Membuktikan u1 - u2 = d0 dengan standar deviasi uniform yang tidak diketahui\n",
        "# Gunakan distribusi-t\n",
        "\n",
        "# Diketahui\n",
        "s1 = standardeviasiA\n",
        "s2 = standardeviasiB\n",
        "n1 = 1000\n",
        "n2 = 1000\n",
        "u1 = mean_areaA\n",
        "u2 = mean_areaB\n",
        "d0 = 0 #u1 = u2\n",
        "\n",
        "# Hitung sp\n",
        "sp2 = ((n1 - 1) * math.pow(s1, 2) + (n2 - 1) * math.pow(s2, 2)) / (n1 + n2 - 2)\n",
        "sp = math.sqrt(sp2)\n",
        "\n",
        "# Hitung t\n",
        "t_value = ((u1 - u2) - d0) / (sp * math.sqrt(1/n1 + 1/n2))\n",
        "\n",
        "# Hitung degree of freedom\n",
        "v = n1 + n2 - 2\n",
        "\n",
        "# Hitung two tailed p value\n",
        "p_value = 2 * (1 - stats.t.cdf(abs(t_value), df=v))\n",
        "\n",
        "# Hitung daerah kritis\n",
        "critical_value_low = stats.t.ppf(alpha/2, df=v) #0.025\n",
        "critical_value_high = stats.t.ppf(1 - alpha/2, df=v) #0.975\n",
        "\n",
        "# Print results\n",
        "print(f\"t-value: {t_value}\")\n",
        "print(f\"p-value: {p_value}\")\n",
        "print(f\"Critical value (low): {critical_value_low}\")\n",
        "print(f\"Critical value (high): {critical_value_high}\")\n",
        "\n",
        "# Compare t-value with critical values to make a decision\n",
        "if t_value < critical_value_low or t_value > critical_value_high:\n",
        "    print(f\"\\n{p_value} < {alpha}\")\n",
        "    print(\"Tolak H0\")\n",
        "    print(\"Rata-rata humidity area A berbeda dengan rata-rata humidity area B\")\n",
        "else:\n",
        "    print(f\"\\n{p_value} > {alpha}\")\n",
        "    print(\"Gagal menolak H0\")\n",
        "    print(\"Rata-rata humidity area A sama dengan rata-rata humidity area B\")\n",
        "\n"
      ],
      "metadata": {
        "colab": {
          "base_uri": "https://localhost:8080/"
        },
        "id": "Q_Yd34v-zO4S",
        "outputId": "16c02f72-8a87-4688-a4ea-980470307aa9"
      },
      "execution_count": 23,
      "outputs": [
        {
          "output_type": "stream",
          "name": "stdout",
          "text": [
            "t-value: -0.12659222179898152\n",
            "p-value: 0.899275891151988\n",
            "Critical value (low): -1.961152014836706\n",
            "Critical value (high): 1.9611520148367056\n",
            "\n",
            "0.899275891151988 > 0.05\n",
            "Gagal menolak H0\n",
            "Rata-rata humidity area A sama dengan rata-rata humidity area B\n"
          ]
        }
      ]
    }
  ]
}