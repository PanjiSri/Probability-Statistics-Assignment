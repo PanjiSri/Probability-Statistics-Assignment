{
 "cells": [
  {
   "cell_type": "code",
   "execution_count": 8,
   "metadata": {},
   "outputs": [],
   "source": [
    "import pandas as pd\n",
    "import numpy as np\n",
    "from scipy.stats import iqr\n",
    "import matplotlib.pyplot as plt"
   ]
  },
  {
   "cell_type": "code",
   "execution_count": 9,
   "metadata": {},
   "outputs": [],
   "source": [
    "data_path = 'weather.csv' \n",
    "data = pd.read_csv(data_path)"
   ]
  },
  {
   "cell_type": "code",
   "execution_count": 10,
   "metadata": {},
   "outputs": [
    {
     "name": "stdout",
     "output_type": "stream",
     "text": [
      "Outlier yang terdeteksi dengan metode manual:\n",
      "Unnamed: 0: No outliers\n",
      "Temperature: 13 outliers\n",
      "Humidity: 11 outliers\n",
      "Precipitation: 19 outliers\n",
      "Wind_Speed: 10 outliers\n",
      "Cloud_Coverage: 22 outliers\n",
      "Pressure: 2 outliers\n",
      "UV_Index: No outliers\n",
      "Air_Quality: 23 outliers\n",
      "Visibility: 21 outliers\n"
     ]
    }
   ],
   "source": [
    "#Kita deteksi outlier pake IQR, sebenernya masih agak ragu apakah ada metode lain\n",
    "#Tapi harusnya kalau cukup aman, karena yang dipake sebarang tengah data, haruse bisa kehindar dari nilai ekstrim\n",
    "def deteksi_outlier_iqr_manual(data):\n",
    "    outlier_indices = {}\n",
    "    for kolom in data.select_dtypes(include=['number']).columns:\n",
    "        Q1 = data[kolom].quantile(0.25)\n",
    "        Q3 = data[kolom].quantile(0.75)\n",
    "        IQR = Q3 - Q1\n",
    "        batas_bawah = Q1 - 1.5 * IQR\n",
    "        batas_atas = Q3 + 1.5 * IQR\n",
    "        outlier_mask = (data[kolom] < batas_bawah) | (data[kolom] > batas_atas)\n",
    "        outlier_indices[kolom] = data[kolom][outlier_mask].index.tolist()\n",
    "    return outlier_indices\n",
    "\n",
    "outlier_indices_manual = deteksi_outlier_iqr_manual(data)\n",
    "\n",
    "print(\"Outlier yang terdeteksi dengan metode manual:\")\n",
    "for kolom, indices in outlier_indices_manual.items():\n",
    "    if indices:\n",
    "        print(f\"{kolom}: {len(indices)} outliers\")\n",
    "    else:\n",
    "        print(f\"{kolom}: No outliers\")"
   ]
  },
  {
   "cell_type": "code",
   "execution_count": 13,
   "metadata": {},
   "outputs": [
    {
     "name": "stdout",
     "output_type": "stream",
     "text": [
      "\n",
      "Outlier yang terdeteksi dengan library:\n",
      "Unnamed: 0: No outliers\n",
      "Temperature: 13 outliers\n",
      "Humidity: 11 outliers\n",
      "Precipitation: 19 outliers\n",
      "Wind_Speed: 10 outliers\n",
      "Cloud_Coverage: 22 outliers\n",
      "Pressure: 2 outliers\n",
      "UV_Index: No outliers\n",
      "Air_Quality: 23 outliers\n",
      "Visibility: 21 outliers\n"
     ]
    }
   ],
   "source": [
    "def deteksi_outlier_iqr_library(data):\n",
    "    outlier_indices = {}\n",
    "    for kolom in data.select_dtypes(include=['number']).columns:\n",
    "        kolom_data = data[kolom].dropna()\n",
    "        IQR = iqr(kolom_data)\n",
    "        Q1 = np.percentile(kolom_data, 25)\n",
    "        Q3 = np.percentile(kolom_data, 75)\n",
    "        batas_bawah = Q1 - 1.5 * IQR\n",
    "        batas_atas = Q3 + 1.5 * IQR\n",
    "        outlier_mask = (kolom_data < batas_bawah) | (kolom_data > batas_atas)\n",
    "        outlier_indices[kolom] = kolom_data[outlier_mask].index.tolist()\n",
    "    return outlier_indices\n",
    "\n",
    "outlier_indices_library = deteksi_outlier_iqr_library(data)\n",
    "\n",
    "print(\"\\nOutlier yang terdeteksi dengan library:\")\n",
    "for kolom, indices in outlier_indices_library.items():\n",
    "    if indices:\n",
    "        print(f\"{kolom}: {len(indices)} outliers\")\n",
    "    else:\n",
    "        print(f\"{kolom}: No outliers\")"
   ]
  },
  {
   "cell_type": "markdown",
   "metadata": {},
   "source": [
    "### Penanganan Outlier\n",
    "\n",
    "1. **Penghapusan**: \n",
    "   - Menghapus nilai-nilai outlier dari dataset, terutama jika mereka disebabkan oleh kesalahan pengukuran atau pencatatan. : Cocok jika outlier adalah hasil dari kesalahan pengukuran atau jika mereka tidak mewakili populasi yang sedang dipelajari. Namun, ini bisa mengurangi ukuran sampel, yang mungkin tidak diinginkan jika dataset kecil.\n",
    "\n",
    "2. **Imputasi**: \n",
    "   - Mengganti outlier dengan nilai yang lebih masuk akal, seperti median atau rata-rata dari data lainnya. Mengganti outlier dengan nilai median atau rata-rata dapat menjaga ukuran sampel, tetapi bisa memperkenalkan bias jika outlier sebenarnya adalah bagian dari distribusi data.\n",
    "\n",
    "3. **Transformasi**: \n",
    "   - Melakukan transformasi data (seperti log atau z-score) untuk mengurangi dampak outlier. Jujur, sepertinya Transformasi seperti z-score atau log transformasi dapat mengurangi pengaruh outlier tanpa menghilangkan data. Ini bisa sangat efektif jika outlier adalah bagian dari distribusi yang diharapkan, tetapi mungkin akan berdampak besar pada analisis.\n",
    "\n",
    "4. **Peningkatan Model**: \n",
    "   - Menggunakan model yang lebih robust terhadap outlier, seperti median regression atau menggunakan algoritma yang lebih tahan terhadap outlier. Menggunakan model yang lebih robust terhadap outlier, seperti median regression atau algoritma yang lebih tahan terhadap outlier, dapat sangat efektif. Namun, ini lebih kompleks dan cukup sulit.\n",
    "\n",
    "### Pandangan Terhadap Outlier\n",
    "Sepertinya metode yang paling cocok adalah imputasi outlier, untuk sementara. Dengan metode tersebut, ukuran sampel tetap terjaga dan mengurangi pengaruh outlier tanpa menghapus data yang mungkin penting untuk analisis di soal 5 dan 6. Pemilihan imputasi didasarkan oleh tingkat kesulitan implementasi yang tidak terlalu tinggi.\n"
   ]
  },
  {
   "cell_type": "code",
   "execution_count": 16,
   "metadata": {},
   "outputs": [
    {
     "name": "stdout",
     "output_type": "stream",
     "text": [
      "\n",
      "Statistik deskriptif sebelum penanganan outlier:\n",
      "        Unnamed: 0  Temperature     Humidity  Precipitation   Wind_Speed  \\\n",
      "count  2000.000000  2000.000000  2000.000000    2000.000000  2000.000000   \n",
      "mean    999.500000    24.940225    70.110113       9.922872    14.929117   \n",
      "std     577.494589     3.003306     9.807775       5.031691     4.972098   \n",
      "min       0.000000    15.441317    40.991391      -9.480835    -4.063694   \n",
      "25%     499.750000    22.919216    63.313635       6.695718    11.499557   \n",
      "50%     999.500000    24.937000    69.871791       9.908852    14.890523   \n",
      "75%    1499.250000    26.986035    76.744302      13.248399    18.242726   \n",
      "max    1999.000000    35.060065   104.672989      26.851977    29.721840   \n",
      "\n",
      "       Cloud_Coverage     Pressure     UV_Index  Air_Quality   Visibility  \n",
      "count     2000.000000  2000.000000  2000.000000  2000.000000  2000.000000  \n",
      "mean        49.856025  1000.691301     5.464730    65.757886    15.091752  \n",
      "std         10.134826    57.329860     2.588364     8.365777     4.985096  \n",
      "min         13.241983   800.000000     1.002470    35.829769    -2.190009  \n",
      "25%         43.127973   952.131330     3.316950    60.242220    11.773017  \n",
      "50%         49.990347  1000.998439     5.326224    65.731600    15.204045  \n",
      "75%         56.208254  1050.702280     7.677455    71.074361    18.428237  \n",
      "max         92.570077  1200.000000     9.998930    95.057432    35.000000  \n",
      "\n",
      "Statistik deskriptif setelah imputasi outlier:\n",
      "        Unnamed: 0  Temperature     Humidity  Precipitation   Wind_Speed  \\\n",
      "count  2000.000000  2000.000000  2000.000000    2000.000000  2000.000000   \n",
      "mean    999.500000    24.918464    70.062991       9.933991    14.961725   \n",
      "std     577.494589     2.918778     9.568174       4.816672     4.853019   \n",
      "min       0.000000    16.918278    44.519802      -2.939164     2.230926   \n",
      "25%     499.750000    22.931425    63.363829       6.783154    11.581396   \n",
      "50%     999.500000    24.937000    69.871791       9.908852    14.890523   \n",
      "75%    1499.250000    26.935793    76.609548      13.190837    18.191274   \n",
      "max    1999.000000    32.964376    96.747550      23.013390    28.229354   \n",
      "\n",
      "       Cloud_Coverage     Pressure     UV_Index  Air_Quality   Visibility  \n",
      "count     2000.000000  2000.000000  2000.000000  2000.000000  2000.000000  \n",
      "mean        49.786910  1000.692300     5.464730    65.676480    15.111768  \n",
      "std          9.614150    56.979754     2.588364     7.936188     4.728177  \n",
      "min         23.630596   900.256035     1.002470    44.545082     1.892646  \n",
      "25%         43.245933   952.305573     3.316950    60.338856    11.910888  \n",
      "50%         49.990347  1000.998439     5.326224    65.731600    15.204045  \n",
      "75%         56.002931  1050.669914     7.677455    70.897088    18.362112  \n",
      "max         75.668315  1099.952882     9.998930    87.312709    28.364495  \n"
     ]
    }
   ],
   "source": [
    "#Implementasi penanganan outlier\n",
    "\n",
    "def imputasi_outlier(data, outlier_indices):\n",
    "    for kolom, indices in outlier_indices.items():\n",
    "        median = data[kolom].median()\n",
    "        data.loc[indices, kolom] = median\n",
    "    return data\n",
    "\n",
    "outlier_indices_manual = deteksi_outlier_iqr_manual(data)\n",
    "\n",
    "data_imputasi = imputasi_outlier(data.copy(), outlier_indices_manual)\n",
    "\n",
    "print(\"\\nStatistik deskriptif sebelum penanganan outlier:\")\n",
    "print(data.describe())\n",
    "\n",
    "print(\"\\nStatistik deskriptif setelah imputasi outlier:\")\n",
    "print(data_imputasi.describe())"
   ]
  }
 ],
 "metadata": {
  "kernelspec": {
   "display_name": "Python 3",
   "language": "python",
   "name": "python3"
  },
  "language_info": {
   "codemirror_mode": {
    "name": "ipython",
    "version": 3
   },
   "file_extension": ".py",
   "mimetype": "text/x-python",
   "name": "python",
   "nbconvert_exporter": "python",
   "pygments_lexer": "ipython3",
   "version": "3.12.2"
  }
 },
 "nbformat": 4,
 "nbformat_minor": 2
}
